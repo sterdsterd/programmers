{
 "cells": [
  {
   "cell_type": "code",
   "execution_count": null,
   "metadata": {},
   "outputs": [],
   "source": [
    "# 짝수와 홀수\n",
    "def solution(num):\n",
    "    return \"Odd\" if num % 2 == 1 else \"Even\"\n"
   ]
  },
  {
   "cell_type": "code",
   "execution_count": null,
   "metadata": {},
   "outputs": [],
   "source": [
    "# 평균 구하기\n",
    "def solution(arr):\n",
    "    return sum(arr) / len(arr)\n"
   ]
  },
  {
   "cell_type": "code",
   "execution_count": null,
   "metadata": {},
   "outputs": [],
   "source": [
    "# 약수의 합\n",
    "def solution(n):\n",
    "    answer = 0\n",
    "    for i in range(1, int(n ** 0.5) + 1):\n",
    "        if n % i == 0:\n",
    "            if i == n // i: answer += i\n",
    "            else: answer += i + n // i\n",
    "    return answer\n"
   ]
  },
  {
   "cell_type": "code",
   "execution_count": 7,
   "metadata": {},
   "outputs": [
    {
     "name": "stdout",
     "output_type": "stream",
     "text": [
      "24\n"
     ]
    }
   ],
   "source": [
    "# 자릿수 더하기\n",
    "def solution(n):\n",
    "    return sum(map(int, str(n)))\n"
   ]
  },
  {
   "cell_type": "code",
   "execution_count": 16,
   "metadata": {},
   "outputs": [
    {
     "name": "stdout",
     "output_type": "stream",
     "text": [
      "[0, 0, 0]\n"
     ]
    }
   ],
   "source": [
    "# x만큼 간격이 있는 n개의 숫자\n",
    "def solution(x, n):\n",
    "    # range의 step에 0이 들어가면 Runtime error\n",
    "    if x == 0: return [0] * n\n",
    "    return list(range(x, x * (n + 1), x))\n"
   ]
  },
  {
   "cell_type": "code",
   "execution_count": 18,
   "metadata": {},
   "outputs": [
    {
     "name": "stdout",
     "output_type": "stream",
     "text": [
      "[5, 4, 3, 2, 1]\n"
     ]
    }
   ],
   "source": [
    "# 자연수 뒤집어 배열로 만들기\n",
    "def solution(n):\n",
    "    return list(map(int, str(n)))[::-1]\n"
   ]
  },
  {
   "cell_type": "code",
   "execution_count": null,
   "metadata": {},
   "outputs": [],
   "source": [
    "# 정수 제곱근 판별\n",
    "def solution(n):\n",
    "    if n ** 0.5 == int(n ** 0.5):\n",
    "        return (n ** 0.5 + 1) ** 2\n",
    "    else:\n",
    "        return -1\n",
    "    "
   ]
  },
  {
   "cell_type": "code",
   "execution_count": 27,
   "metadata": {},
   "outputs": [
    {
     "name": "stdout",
     "output_type": "stream",
     "text": [
      "True\n"
     ]
    }
   ],
   "source": [
    "# 문자열 내 p와 y의 개수\n",
    "def solution(s):\n",
    "    s = s.lower()\n",
    "    return True if s.count(\"p\") == s.count(\"y\") else False\n"
   ]
  },
  {
   "cell_type": "code",
   "execution_count": null,
   "metadata": {},
   "outputs": [],
   "source": [
    "# 나머지가 1이 되는 수 찾기\n",
    "def solution(n):\n",
    "    for i in range(1, n):\n",
    "        if n % i == 1:\n",
    "            return i\n",
    "        "
   ]
  },
  {
   "cell_type": "code",
   "execution_count": 29,
   "metadata": {},
   "outputs": [
    {
     "name": "stdout",
     "output_type": "stream",
     "text": [
      "873211\n"
     ]
    }
   ],
   "source": [
    "# 정수 내림차순으로 배치하기\n",
    "def solution(n):\n",
    "    return int(\"\".join(sorted(str(n))[::-1]))\n"
   ]
  },
  {
   "cell_type": "code",
   "execution_count": null,
   "metadata": {},
   "outputs": [],
   "source": [
    "# 문자열을 정수로 바꾸기\n",
    "def solution(s):\n",
    "    return int(s)\n"
   ]
  },
  {
   "cell_type": "code",
   "execution_count": null,
   "metadata": {},
   "outputs": [],
   "source": [
    "# 하샤드 수\n",
    "def solution(x):\n",
    "        return x % sum(map(int, str(x))) == 0\n"
   ]
  },
  {
   "cell_type": "code",
   "execution_count": 31,
   "metadata": {},
   "outputs": [
    {
     "name": "stdout",
     "output_type": "stream",
     "text": [
      "12\n"
     ]
    }
   ],
   "source": [
    "# 두 정수 사이의 합\n",
    "def solution(a, b):\n",
    "    if a > b: a, b = b, a\n",
    "    return sum(range(a, b + 1))\n"
   ]
  },
  {
   "cell_type": "code",
   "execution_count": 34,
   "metadata": {},
   "outputs": [
    {
     "name": "stdout",
     "output_type": "stream",
     "text": [
      "-1\n"
     ]
    }
   ],
   "source": [
    "# 콜라츠 추측\n",
    "solution = lambda num: collatz(num, 0)\n",
    "\n",
    "# 꼬리 재귀\n",
    "def collatz(num, count):\n",
    "    if num == 1:\n",
    "        return count\n",
    "    elif count > 500:\n",
    "        return -1\n",
    "    elif num % 2 == 0:\n",
    "        return collatz(num / 2, count + 1)\n",
    "    else:\n",
    "        return collatz(num * 3 + 1, count + 1)\n",
    "    "
   ]
  },
  {
   "cell_type": "code",
   "execution_count": null,
   "metadata": {},
   "outputs": [],
   "source": [
    "# 서울에서 김서방 찾기\n",
    "solution = lambda seoul: f\"김서방은 {seoul.index('Kim')}에 있다\"\n"
   ]
  },
  {
   "cell_type": "code",
   "execution_count": 44,
   "metadata": {},
   "outputs": [
    {
     "name": "stdout",
     "output_type": "stream",
     "text": [
      "[-1]\n"
     ]
    }
   ],
   "source": [
    "# 나누어 떨어지는 숫자 배열\n",
    "def solution(arr, divisor):\n",
    "    result = sorted(filter(lambda n: n % divisor == 0, arr))\n",
    "    return [-1] if len(result) == 0 else result\n"
   ]
  },
  {
   "cell_type": "code",
   "execution_count": null,
   "metadata": {},
   "outputs": [],
   "source": [
    "# 핸드폰 번호 가리기\n",
    "def solution(phone_number):\n",
    "    return \"*\" * (len(phone_number) - 4) + phone_number[-4:]\n"
   ]
  },
  {
   "cell_type": "code",
   "execution_count": 49,
   "metadata": {},
   "outputs": [
    {
     "name": "stdout",
     "output_type": "stream",
     "text": [
      "9\n"
     ]
    }
   ],
   "source": [
    "# 음양 더하기\n",
    "def solution(absolutes, signs):\n",
    "    return sum([a if s else -a for a, s in zip(absolutes, signs)])\n"
   ]
  },
  {
   "cell_type": "code",
   "execution_count": 53,
   "metadata": {},
   "outputs": [
    {
     "name": "stdout",
     "output_type": "stream",
     "text": [
      "[-1]\n"
     ]
    }
   ],
   "source": [
    "# 제일 작은 수 제거하기\n",
    "def solution(arr):\n",
    "    arr.remove(min(arr))\n",
    "    return arr or [-1]\n"
   ]
  },
  {
   "cell_type": "code",
   "execution_count": 54,
   "metadata": {},
   "outputs": [
    {
     "name": "stdout",
     "output_type": "stream",
     "text": [
      "14\n"
     ]
    }
   ],
   "source": [
    "# 없는 숫자 더하기\n",
    "def solution(numbers):\n",
    "    notInNumbers = list(range(10))\n",
    "    for i in range(10):\n",
    "        if i in numbers:\n",
    "            notInNumbers.remove(i)\n",
    "    return sum(notInNumbers)\n"
   ]
  },
  {
   "cell_type": "code",
   "execution_count": 61,
   "metadata": {},
   "outputs": [
    {
     "name": "stdout",
     "output_type": "stream",
     "text": [
      "bc\n"
     ]
    }
   ],
   "source": [
    "# 가운데 글자 가져오기\n",
    "def solution(s):\n",
    "    return s[int(len(s) / 2 - 0.5) : len(s) // 2 + 1]\n"
   ]
  },
  {
   "cell_type": "code",
   "execution_count": 64,
   "metadata": {},
   "outputs": [
    {
     "name": "stdout",
     "output_type": "stream",
     "text": [
      "수박수박수\n"
     ]
    }
   ],
   "source": [
    "# 수박수박수박수박수박수?\n",
    "solution = lambda n: \"\".join(\"수박\"[i % 2] for i in range(n))\n"
   ]
  },
  {
   "cell_type": "code",
   "execution_count": 65,
   "metadata": {},
   "outputs": [
    {
     "name": "stdout",
     "output_type": "stream",
     "text": [
      "3\n"
     ]
    }
   ],
   "source": [
    "# 내적\n",
    "solution = lambda a, b: sum([i * j for i, j in zip(a, b)])\n"
   ]
  },
  {
   "cell_type": "code",
   "execution_count": 70,
   "metadata": {},
   "outputs": [
    {
     "name": "stdout",
     "output_type": "stream",
     "text": [
      "ssffddaaSFDA\n"
     ]
    }
   ],
   "source": [
    "# 문자열 내림차순으로 배치하기\n",
    "solution = lambda s: \"\".join(sorted(s))[::-1]\n"
   ]
  },
  {
   "cell_type": "code",
   "execution_count": null,
   "metadata": {},
   "outputs": [],
   "source": [
    "# 약수의 개수와 덧셈\n",
    "def getDivisorNum(i):\n",
    "    count = 0\n",
    "    for j in range(1, int(i ** 0.5) + 1):\n",
    "        if i % j == 0:\n",
    "            count += 1 if j == i // j else 2\n",
    "    return count\n",
    "\n",
    "def solution(left, right):\n",
    "    answer = 0\n",
    "    for i in range(left, right + 1):\n",
    "        answer += i if getDivisorNum(i) % 2 == 0 else -i\n",
    "    return answer\n",
    "# 아 제곱수만 약수 개수가 홀수구나..\n"
   ]
  },
  {
   "cell_type": "code",
   "execution_count": 82,
   "metadata": {},
   "outputs": [
    {
     "name": "stdout",
     "output_type": "stream",
     "text": [
      "True\n"
     ]
    }
   ],
   "source": [
    "# 문자열 다루기 기본\n",
    "solution = lambda s: (len(s) == 4 or len(s) == 6) and s.isnumeric()\n"
   ]
  },
  {
   "cell_type": "code",
   "execution_count": null,
   "metadata": {},
   "outputs": [],
   "source": [
    "# 부족한 금액 계산하기\n",
    "def solution(price, money, count):\n",
    "    money -= price * ((1 + count) / 2 * count)\n",
    "    return -money if money < 0 else 0\n"
   ]
  }
 ],
 "metadata": {
  "kernelspec": {
   "display_name": "Python 3",
   "language": "python",
   "name": "python3"
  },
  "language_info": {
   "codemirror_mode": {
    "name": "ipython",
    "version": 3
   },
   "file_extension": ".py",
   "mimetype": "text/x-python",
   "name": "python",
   "nbconvert_exporter": "python",
   "pygments_lexer": "ipython3",
   "version": "3.11.0"
  },
  "orig_nbformat": 4
 },
 "nbformat": 4,
 "nbformat_minor": 2
}
